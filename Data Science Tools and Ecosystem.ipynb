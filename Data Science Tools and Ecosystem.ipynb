{
 "cells": [
  {
   "cell_type": "markdown",
   "id": "94ab612e-0801-49f9-a5ab-c83999d48ece",
   "metadata": {},
   "source": [
    "# Data Science Tools and Ecosystem"
   ]
  },
  {
   "cell_type": "markdown",
   "id": "9e65564f-5f63-433d-bd9a-fc25419691b0",
   "metadata": {},
   "source": [
    "In this notebook, Data Science Tools and Ecosystem are summarized"
   ]
  },
  {
   "cell_type": "markdown",
   "id": "cc143b0e-2e6d-4737-b83e-97a534a10255",
   "metadata": {
    "tags": []
   },
   "source": [
    "**Objectives**\n",
    "+ Describe the components of a Data Scientist's toolkit and list various tool categories.\n",
    "+ List examples of open-source tools used in data science.\n",
    "+ Describe the relevant features of open-source tools\n",
    "+ Make simple arithmetic calculations"
   ]
  },
  {
   "cell_type": "markdown",
   "id": "0732305a-ffb5-471a-ab24-df2038c7d8ef",
   "metadata": {},
   "source": [
    "Some of the popular languages that Data Scientists use are: \n",
    "1. Python\n",
    "2. R\n",
    "3. Scala\n",
    "4. SQL\n",
    "5. C++"
   ]
  },
  {
   "cell_type": "markdown",
   "id": "75dd870d-d117-49ae-aa53-5bd0f1f7ba60",
   "metadata": {},
   "source": [
    "Some of the commonly used libraries used Ьу Data Scientists include: \n",
    "1. Python Scientific Computing libraries such as **Pandas** (for data cleaning, manipulation and analysis) or Numpy. \n",
    "2. **Matplotlib** package used for data visualization\n",
    "3. **Keras** used for building deep-learning models\n",
    "4. **Scikit-learn** used for machine learning"
   ]
  },
  {
   "cell_type": "markdown",
   "id": "7af9c291-8649-4354-bece-3af605142b9c",
   "metadata": {},
   "source": [
    "| Data Science Tools |\n",
    "| -------------------|\n",
    "| RStudio |\n",
    "| Apache Spark |\n",
    "| TensorFlow |\n",
    "| Apache Hadoop |"
   ]
  },
  {
   "cell_type": "markdown",
   "id": "8a4318bc-8405-4103-90a9-b435d05a113d",
   "metadata": {},
   "source": [
    "### Below are а few examples of evaluating arithmetic expressions in Python"
   ]
  },
  {
   "cell_type": "markdown",
   "id": "4010beb9-586f-4c13-b18d-dedc384f5b95",
   "metadata": {},
   "source": [
    "This a simple arithmetic expression to multiply then add integers"
   ]
  },
  {
   "cell_type": "code",
   "execution_count": 6,
   "id": "29a33148-64d8-41b7-8eec-77896817e5e9",
   "metadata": {
    "tags": []
   },
   "outputs": [
    {
     "data": {
      "text/plain": [
       "17"
      ]
     },
     "execution_count": 6,
     "metadata": {},
     "output_type": "execute_result"
    }
   ],
   "source": [
    "(3*4)+5"
   ]
  },
  {
   "cell_type": "markdown",
   "id": "134a9648-60d1-49fb-b076-b96c666a8264",
   "metadata": {},
   "source": [
    "This will convert 200 minutes to hours Ьу diving Ьу 60."
   ]
  },
  {
   "cell_type": "code",
   "execution_count": 7,
   "id": "f7bf86dc-4528-4761-878d-cf57064471a0",
   "metadata": {
    "tags": []
   },
   "outputs": [
    {
     "data": {
      "text/plain": [
       "3.3333333333333335"
      ]
     },
     "execution_count": 7,
     "metadata": {},
     "output_type": "execute_result"
    }
   ],
   "source": [
    "200/60"
   ]
  },
  {
   "cell_type": "code",
   "execution_count": null,
   "id": "b9055e96-50c2-4a28-bcf3-c1bd886aa570",
   "metadata": {},
   "outputs": [],
   "source": []
  }
 ],
 "metadata": {
  "kernelspec": {
   "display_name": "Python",
   "language": "python",
   "name": "conda-env-python-py"
  },
  "language_info": {
   "codemirror_mode": {
    "name": "ipython",
    "version": 3
   },
   "file_extension": ".py",
   "mimetype": "text/x-python",
   "name": "python",
   "nbconvert_exporter": "python",
   "pygments_lexer": "ipython3",
   "version": "3.7.12"
  }
 },
 "nbformat": 4,
 "nbformat_minor": 5
}
